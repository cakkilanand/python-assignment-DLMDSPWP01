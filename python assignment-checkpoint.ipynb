{
 "cells": [
  {
   "cell_type": "code",
   "execution_count": null,
   "id": "d398b43a-b544-4240-a790-4d186c012b41",
   "metadata": {},
   "outputs": [],
   "source": [
    "import pandas as pd\n",
    "import sqlite3\n",
    "def load_csv_to_sqlite(db_name, csv_files):\n",
    "conn = sqlite3.connect(db_name)\n",
    "for table_name, file_path in csv_files.items():\n",
    "df = pd.read_csv(file_path)\n",
    "df.to_sql(table_name, conn, if_exists='replace', index=False)\n",
    "conn.close()\n",
    "csv_files = {\n",
    "'ideal': 'ideal.csv',\n",
    "'test': 'test.csv',\n",
    "'train': 'train.csv'\n",
    "}\n",
    "db_name = 'datasets.db'\n",
    "load_csv_to_sqlite(db_name, csv_files)"
   ]
  },
  {
   "cell_type": "code",
   "execution_count": null,
   "id": "5fa9f290-357b-409c-ad7f-1a13ff1c26ed",
   "metadata": {},
   "outputs": [],
   "source": [
    "def load_data_from_sqlite(db_name):\n",
    "conn = sqlite3.connect(db_name)\n",
    "Page 6 of 15 - AI Writing Submission Submission ID trn:oid:::1:2963661562\n",
    "Page 6 of 15 - AI Writing Submission Submission ID trn:oid:::1:2963661562\n",
    "ideal_df = pd.read_sql('SELECT * FROM ideal', conn)\n",
    "test_df = pd.read_sql('SELECT * FROM test', conn)\n",
    "train_df = pd.read_sql('SELECT * FROM train', conn)\n",
    "conn.close()\n",
    "return ideal_df, test_df, train_df\n",
    "ideal_df, test_df, train_df = load_data_from_sqlite(db_name)"
   ]
  },
  {
   "cell_type": "code",
   "execution_count": null,
   "id": "6228ec19-33be-46fe-b793-bbb1caba1d6a",
   "metadata": {},
   "outputs": [],
   "source": [
    "from sklearn.metrics import mean_squared_error\n",
    "def find_best_fit(train_df, ideal_df):\n",
    "best_fit_functions = []\n",
    "for train_col in train_df.columns[1:]:\n",
    "best_fit = None\n",
    "lowest_mse = float('inf')\n",
    "for ideal_col in ideal_df.columns[1:]:\n",
    "mse = mean_squared_error(train_df[train_col], ideal_df[ideal_col])\n",
    "if mse < lowest_mse:\n",
    "lowest_mse = mse\n",
    "best_fit = ideal_col\n",
    "best_fit_functions.append((train_col, best_fit, lowest_mse))\n",
    "return best_fit_functions\n",
    "best_fit_functions = find_best_fit(train_df, ideal_df)"
   ]
  },
  {
   "cell_type": "code",
   "execution_count": null,
   "id": "ad3bccf6-bd43-432d-a9c5-51d309784977",
   "metadata": {},
   "outputs": [],
   "source": [
    "def map_test_data(test_df, ideal_df, best_fit_functions):\n",
    "mappings = []\n",
    "for index, row in test_df.iterrows():\n",
    "x = row['x']\n",
    "y = row['y']\n",
    "for train_col, ideal_col, _ in best_fit_functions:\n",
    "ideal_y = ideal_df.loc[ideal_df['x'] == x, ideal_col].values[0]\n",
    "deviation = abs(y - ideal_y)\n",
    "mappings.append((x, y, train_col, ideal_col, deviation))\n",
    "return pd.DataFrame(mappings, columns=['x', 'y', 'train_col', 'ideal_col', 'deviation'])\n",
    "mappings_df = map_test_data(test_df, ideal_df, best_fit_functions)"
   ]
  },
  {
   "cell_type": "code",
   "execution_count": null,
   "id": "bb3eb144-0933-4fa7-9f22-019b18b45e21",
   "metadata": {},
   "outputs": [],
   "source": [
    "from bokeh.plotting import figure, show, output_notebook\n",
    "from bokeh.layouts import gridplot\n",
    "def visualize_data_bokeh(train_df, ideal_df, test_df, mappings_df, best_fit_functions):\n",
    "plots = []\n",
    "for train_col, ideal_col, _ in best_fit_functions:\n",
    "p = figure(title=f'{train_col} and {ideal_col}', x_axis_label='x', y_axis_label='y')\n",
    "p.line(train_df['x'], train_df[train_col], legend_label=f'Train {train_col}', line_color=\"blue\")\n",
    "Page 8 of 15 - AI Writing Submission Submission ID trn:oid:::1:2963661562\n",
    "Page 8 of 15 - AI Writing Submission Submission ID trn:oid:::1:2963661562\n",
    "p.line(ideal_df['x'], ideal_df[ideal_col], legend_label=f'Ideal {ideal_col}', line_color=\"green\")\n",
    "mapped_data = mappings_df[mappings_df['train_col'] == train_col]\n",
    "p.scatter(mapped_data['x'], mapped_data['y'], legend_label='Test Data', color='red')\n",
    "plots.append(p)\n",
    "grid = gridplot([plots], ncols=2, plot_width=400, plot_height=400)\n",
    "output_notebook()\n",
    "show(grid)\n",
    "visualize_data_bokeh(train_df, ideal_df, test_df, mappings_df, best_fit_functions)"
   ]
  }
 ],
 "metadata": {
  "kernelspec": {
   "display_name": "Python 3 (ipykernel)",
   "language": "python",
   "name": "python3"
  },
  "language_info": {
   "codemirror_mode": {
    "name": "ipython",
    "version": 3
   },
   "file_extension": ".py",
   "mimetype": "text/x-python",
   "name": "python",
   "nbconvert_exporter": "python",
   "pygments_lexer": "ipython3",
   "version": "3.11.5"
  }
 },
 "nbformat": 4,
 "nbformat_minor": 5
}
